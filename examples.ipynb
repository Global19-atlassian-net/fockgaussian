{
 "cells": [
  {
   "cell_type": "markdown",
   "metadata": {},
   "source": [
    "# Supplementary material for: \"Franck-Condon factors by counting perfect matchings of graphs with loops\"\n",
    "\n",
    "## Nicolás Quesada\n",
    "### Xanadu, Toronto, Canada"
   ]
  },
  {
   "cell_type": "code",
   "execution_count": 1,
   "metadata": {},
   "outputs": [
    {
     "name": "stderr",
     "output_type": "stream",
     "text": [
      "/home/nicolas/Code/donotkillme/strawberryfields/strawberryfields/ops.py:2194: UserWarning: The shorthand 'Measure' has been deprecated, please use 'MeasureFock()' instead.\n"
     ]
    }
   ],
   "source": [
    "# Importing standard libraries\n",
    "import numpy as np\n",
    "import strawberryfields as sf \n",
    "from strawberryfields.ops import *\n",
    "import fockgaussian "
   ]
  },
  {
   "cell_type": "markdown",
   "metadata": {},
   "source": [
    "# Example 0:  $1 = \\langle n|  n \\rangle$"
   ]
  },
  {
   "cell_type": "code",
   "execution_count": 2,
   "metadata": {},
   "outputs": [
    {
     "name": "stdout",
     "output_type": "stream",
     "text": [
      "Fock backend of strawberryfields:(1-0j)\n",
      "Loop hafnian: \t \t \t (1+0j)\n"
     ]
    }
   ],
   "source": [
    "cutoff = 15\n",
    "l=1\n",
    "m=[1,]\n",
    "n=[1,]\n",
    "U = np.identity(l)\n",
    "Up = np.identity(l)\n",
    "\n",
    "ls = [0.0]\n",
    "alphas = 0.0*np.array([3.0+4.0j])\n",
    "ketn1 = np.zeros([cutoff], dtype=np.complex128)\n",
    "ketn1[n[0]] = 1.0\n",
    "\n",
    "\n",
    "in_state = ketn1\n",
    "sf.hbar = 1\n",
    "prog = sf.Program(l)\n",
    "eng = sf.Engine(\"fock\", backend_options={\"cutoff_dim\": cutoff})\n",
    "with prog.context as q:\n",
    "    Ket(in_state) | q\n",
    "    Interferometer(np.conj(Up))|q\n",
    "    Sgate(ls[0]) | q[0]\n",
    "    Interferometer(np.conj(U))|q\n",
    "    Dgate(alphas[0])|q[0]\n",
    "state = eng.run(prog).state\n",
    "ket = state.ket()\n",
    "\n",
    "r1 = fockgaussian.matelem(l,m,n,U,Up,ls,alphas)\n",
    "r2 = ket[m[0]]\n",
    "print(\"Fock backend of strawberryfields:\"+str(np.round(r1,7)))\n",
    "print(\"Loop hafnian: \\t \\t \\t \"+str(np.round(r2,7)))"
   ]
  },
  {
   "cell_type": "markdown",
   "metadata": {},
   "source": [
    "# Example 1: Single mode displaced state $\\langle m| \\hat D(\\alpha) | n \\rangle$"
   ]
  },
  {
   "cell_type": "code",
   "execution_count": 3,
   "metadata": {},
   "outputs": [
    {
     "name": "stdout",
     "output_type": "stream",
     "text": [
      "Fock backend of strawberryfields:(0.030675+0.0409j)\n",
      "Loop hafnian: \t \t \t (0.030675+0.0409j)\n"
     ]
    }
   ],
   "source": [
    "cutoff = 15 # Cutoff of the Fock basis in strawberry fields\n",
    "l=1\n",
    "m=[5,]\n",
    "n=[4,]\n",
    "U = np.identity(l)\n",
    "Up = np.identity(l)\n",
    "ls = [0.0]\n",
    "alphas = np.array([3.0+4.0j])\n",
    "ketn1 = np.zeros([cutoff], dtype=np.complex128)\n",
    "ketn1[n[0]] = 1.0\n",
    "\n",
    "in_state = ketn1\n",
    "sf.hbar = 1\n",
    "prog = sf.Program(l)\n",
    "eng = sf.Engine(\"fock\", backend_options={\"cutoff_dim\": cutoff})\n",
    "with prog.context as q:\n",
    "    Ket(in_state) | q\n",
    "    Interferometer(np.conj(Up))|q\n",
    "    Sgate(ls[0]) | q[0]\n",
    "    Interferometer(np.conj(U))|q\n",
    "    Dgate(alphas[0])|q[0]\n",
    "state = eng.run(prog).state\n",
    "ket = state.ket()\n",
    "\n",
    "r1 = fockgaussian.matelem(l,m,n,U,Up,ls,alphas)\n",
    "r2 = ket[m[0]]\n",
    "print(\"Fock backend of strawberryfields:\"+str(np.round(r1,7)))\n",
    "print(\"Loop hafnian: \\t \\t \\t \"+str(np.round(r2,7)))"
   ]
  },
  {
   "cell_type": "markdown",
   "metadata": {},
   "source": [
    "## Example 2: Single mode Squeezed state $\\langle m| \\hat S(r) | n \\rangle$"
   ]
  },
  {
   "cell_type": "code",
   "execution_count": 4,
   "metadata": {},
   "outputs": [
    {
     "name": "stdout",
     "output_type": "stream",
     "text": [
      "Fock backend of strawberryfields:(0.2467539+0j)\n",
      "Loop hafnian: \t \t \t (0.2467539+0j)\n"
     ]
    }
   ],
   "source": [
    "cutoff = 15\n",
    "l=1\n",
    "m=[6,]\n",
    "n=[4,]\n",
    "U = np.identity(l)\n",
    "Up = np.identity(l)\n",
    "ls = [1.0]\n",
    "alphas = np.array([0.0+0.0j])\n",
    "ketn1 = np.zeros([cutoff], dtype=np.complex128)\n",
    "ketn1[n[0]] = 1.0\n",
    "\n",
    "in_state = ketn1\n",
    "sf.hbar = 1\n",
    "prog = sf.Program(l)\n",
    "eng = sf.Engine(\"fock\", backend_options={\"cutoff_dim\": cutoff})\n",
    "with prog.context as q:\n",
    "    Ket(in_state) | q\n",
    "    Interferometer(np.conj(Up))|q\n",
    "    Sgate(ls[0]) | q[0]\n",
    "    Interferometer(np.conj(U))|q\n",
    "    Dgate(alphas[0])|q[0]\n",
    "state = eng.run(prog).state\n",
    "ket = state.ket()\n",
    "\n",
    "r1 = fockgaussian.matelem(l,m,n,U,Up,ls,alphas)\n",
    "r2 = ket[m[0]]\n",
    "print(\"Fock backend of strawberryfields:\"+str(np.round(r1,7)))\n",
    "print(\"Loop hafnian: \\t \\t \\t \"+str(np.round(r2,7)))"
   ]
  },
  {
   "cell_type": "markdown",
   "metadata": {},
   "source": [
    "# Example 3: Single mode displaced state rotated $\\langle m|   \\mathcal{\\hat U}(e^{i \\theta}) \\hat D(\\alpha) \\mathcal{\\hat U}(e^{i \\phi})| n\\rangle$"
   ]
  },
  {
   "cell_type": "code",
   "execution_count": 13,
   "metadata": {},
   "outputs": [
    {
     "name": "stdout",
     "output_type": "stream",
     "text": [
      "Fock backend of strawberryfields:(-0.4298326-0.0871314j)\n",
      "Loop hafnian: \t \t \t (-0.4298326-0.0871314j)\n"
     ]
    }
   ],
   "source": [
    "cutoff = 15\n",
    "#for initm in range(0,7):\n",
    "#    for initn in range(0,7):\n",
    "l=1\n",
    "m=[1,]\n",
    "n=[1,]\n",
    "phi =1.3\n",
    "theta = -1.5\n",
    "U = np.identity(l)*np.exp(1j*theta)\n",
    "Up = np.identity(l)*np.exp(1j*phi)\n",
    "ls = [0.0]\n",
    "alphas = np.array([1.1+1.2j])\n",
    "ketn1 = np.zeros([cutoff], dtype=np.complex128)\n",
    "ketn1[n[0]] = 1.0\n",
    "\n",
    "in_state = ketn1\n",
    "sf.hbar = 1\n",
    "prog = sf.Program(l)\n",
    "eng = sf.Engine(\"fock\", backend_options={\"cutoff_dim\": cutoff})\n",
    "with prog.context as q:\n",
    "    Ket(in_state) | q\n",
    "    Interferometer(np.conj(Up))|q\n",
    "    Sgate(ls[0]) | q[0]\n",
    "    Interferometer(np.conj(U))|q\n",
    "    Dgate(alphas[0])|q[0]\n",
    "state = eng.run(prog).state\n",
    "ket = state.ket()\n",
    "\n",
    "r1 = fockgaussian.matelem(l,m,n,U,Up,ls,alphas)\n",
    "r2 = ket[m[0]]\n",
    "print(\"Fock backend of strawberryfields:\"+str(np.round(r1,7)))\n",
    "print(\"Loop hafnian: \\t \\t \\t \"+str(np.round(r2,7)))"
   ]
  },
  {
   "cell_type": "markdown",
   "metadata": {},
   "source": [
    "# Example 4: Single mode Squeezed state rotated $\\langle m|   \\mathcal{\\hat U}(e^{i \\theta}) \\hat S(r) \\mathcal{\\hat U}(e^{i \\phi})| n\\rangle$"
   ]
  },
  {
   "cell_type": "code",
   "execution_count": 6,
   "metadata": {},
   "outputs": [
    {
     "name": "stdout",
     "output_type": "stream",
     "text": [
      "Fock backend of strawberryfields:(-0.2914948+0.0170448j)\n",
      "Loop hafnian: \t \t \t (-0.2914948+0.0170448j)\n"
     ]
    }
   ],
   "source": [
    "cutoff = 15\n",
    "#for initm in range(0,7):\n",
    "#    for initn in range(0,7):\n",
    "l=1\n",
    "m=[2,]\n",
    "n=[4,]\n",
    "phi =1.3\n",
    "theta = -1.0\n",
    "U = np.identity(l)*np.exp(1j*theta)\n",
    "Up = np.identity(l)*np.exp(1j*phi)\n",
    "ls = [1.0]\n",
    "alphas = 0*np.array([1.0+.5j])\n",
    "\n",
    "ketn1 = np.zeros([cutoff], dtype=np.complex128)\n",
    "ketn1[n[0]] = 1.0\n",
    "\n",
    "in_state = ketn1\n",
    "sf.hbar = 1\n",
    "prog = sf.Program(l)\n",
    "eng = sf.Engine(\"fock\", backend_options={\"cutoff_dim\": cutoff})\n",
    "with prog.context as q:\n",
    "    Ket(in_state) | q\n",
    "    Interferometer(np.conj(Up))|q\n",
    "    Sgate(ls[0]) | q[0]\n",
    "    Interferometer(np.conj(U))|q\n",
    "    Dgate(alphas[0])|q[0]\n",
    "state = eng.run(prog).state\n",
    "ket = state.ket()\n",
    "\n",
    "r1 = fockgaussian.matelem(l,m,n,U,Up,ls,alphas)\n",
    "r2 = ket[m[0]]\n",
    "print(\"Fock backend of strawberryfields:\"+str(np.round(r1,7)))\n",
    "print(\"Loop hafnian: \\t \\t \\t \"+str(np.round(r2,7)))"
   ]
  },
  {
   "cell_type": "markdown",
   "metadata": {},
   "source": [
    "# Example 5: Single mode Squeezed state rotated $\\langle m| \\hat D(\\alpha)  \\mathcal{\\hat U}(e^{i \\theta}) \\hat S(r) \\mathcal{\\hat U}(e^{i \\phi})| n\\rangle$"
   ]
  },
  {
   "cell_type": "code",
   "execution_count": 7,
   "metadata": {},
   "outputs": [
    {
     "name": "stdout",
     "output_type": "stream",
     "text": [
      "Fock backend of strawberryfields:(0.2135387-0.1053539j)\n",
      "Loop hafnian: \t \t \t (0.2135307-0.1053854j)\n"
     ]
    }
   ],
   "source": [
    "cutoff = 15\n",
    "#for initm in range(0,7):\n",
    "#    for initn in range(0,7):\n",
    "l=1\n",
    "m=[2,]\n",
    "n=[1,]\n",
    "phi =1.3\n",
    "theta = -1.0\n",
    "U = np.identity(l)*np.exp(1j*theta)\n",
    "Up = np.identity(l)*np.exp(1j*phi)\n",
    "ls = [1.0]\n",
    "alphas = np.array([1.0+.5j])\n",
    "\n",
    "ketn1 = np.zeros([cutoff], dtype=np.complex128)\n",
    "ketn1[n[0]] = 1.0\n",
    "\n",
    "\n",
    "in_state = ketn1\n",
    "sf.hbar = 1\n",
    "prog = sf.Program(l)\n",
    "eng = sf.Engine(\"fock\", backend_options={\"cutoff_dim\": cutoff})\n",
    "with prog.context as q:\n",
    "    Ket(in_state) | q\n",
    "    Interferometer(np.conj(Up))|q\n",
    "    Sgate(ls[0]) | q[0]\n",
    "    Interferometer(np.conj(U))|q\n",
    "    Dgate(alphas[0])|q[0]\n",
    "state = eng.run(prog).state\n",
    "ket = state.ket()\n",
    "\n",
    "r1 = fockgaussian.matelem(l,m,n,U,Up,ls,alphas)\n",
    "r2 = ket[m[0]]\n",
    "print(\"Fock backend of strawberryfields:\"+str(np.round(r1,7)))\n",
    "print(\"Loop hafnian: \\t \\t \\t \"+str(np.round(r2,7)))"
   ]
  },
  {
   "cell_type": "markdown",
   "metadata": {},
   "source": [
    "# Example 6: Two modes Squeezed, rotated and displaced $\\langle m| \\hat D(\\alpha)  \\mathcal{\\hat U}(U) \\hat S(r) \\mathcal{\\hat U}(U')| n\\rangle$"
   ]
  },
  {
   "cell_type": "code",
   "execution_count": 8,
   "metadata": {},
   "outputs": [],
   "source": [
    "from strawberryfields.utils import random_interferometer as haar_measure"
   ]
  },
  {
   "cell_type": "code",
   "execution_count": 9,
   "metadata": {},
   "outputs": [
    {
     "name": "stdout",
     "output_type": "stream",
     "text": [
      "U1= [[ 0.21878676+0.20087793j -0.94972582-0.09900143j]\n",
      " [-0.09974496+0.94964802j  0.15123585+0.25563119j]]\n",
      "U2= [[ 0.77367089+0.30856704j  0.55325472-0.01135613j]\n",
      " [ 0.35661764-0.42313545j -0.24636636+0.79566568j]]\n"
     ]
    }
   ],
   "source": [
    "U1 = haar_measure(2)\n",
    "U2 = haar_measure(2)\n",
    "print(\"U1=\",U1)\n",
    "print(\"U2=\",U2)"
   ]
  },
  {
   "cell_type": "code",
   "execution_count": 22,
   "metadata": {},
   "outputs": [
    {
     "name": "stdout",
     "output_type": "stream",
     "text": [
      "Fock backend of strawberryfields:(0.0082-0.10684j)\n",
      "Loop hafnian: \t \t \t (0.0082-0.10684j)\n"
     ]
    }
   ],
   "source": [
    "cutoff = 20\n",
    "l=2\n",
    "m=[2,1]\n",
    "n=[3,1]\n",
    "\n",
    "U = U1\n",
    "Up = U2\n",
    "ls = [0.4,0.5]\n",
    "alphas = np.array([1.0+.5j,0.3+0.7j])\n",
    "\n",
    "ketn1 = np.zeros([cutoff], dtype=np.complex128)\n",
    "ketn1[n[0]] = 1.0\n",
    "ketn2 = np.zeros([cutoff], dtype=np.complex128)\n",
    "ketn2[n[1]] = 1.0\n",
    "ketn = np.tensordot(ketn1, ketn2, axes = 0)\n",
    "\n",
    "in_state = ketn\n",
    "sf.hbar = 1\n",
    "prog = sf.Program(l)\n",
    "eng = sf.Engine(\"fock\", backend_options={\"cutoff_dim\": cutoff})\n",
    "with prog.context as q:\n",
    "    Ket(in_state) | q\n",
    "    Interferometer(np.conj(Up))|q\n",
    "    Sgate(ls[0]) | q[0]\n",
    "    Sgate(ls[1]) | q[1]\n",
    "    Interferometer(np.conj(U))|q\n",
    "    Dgate(alphas[0])|q[0]\n",
    "    Dgate(alphas[1])|q[1]\n",
    "state = eng.run(prog).state\n",
    "ket = state.ket()\n",
    "\n",
    "r1 = fockgaussian.matelem(l,m,n,U,Up,ls,alphas)\n",
    "r2 = ket[m[0],m[1]]\n",
    "print(\"Fock backend of strawberryfields:\"+str(np.round(r1,5)))\n",
    "print(\"Loop hafnian: \\t \\t \\t \"+str(np.round(r2,5)))\n"
   ]
  },
  {
   "cell_type": "code",
   "execution_count": 23,
   "metadata": {},
   "outputs": [
    {
     "data": {
      "application/json": {
       "Software versions": [
        {
         "module": "Python",
         "version": "3.6.8 64bit [GCC 7.3.0]"
        },
        {
         "module": "IPython",
         "version": "7.2.0"
        },
        {
         "module": "OS",
         "version": "Linux 4.15.0 65 generic x86_64 with debian stretch sid"
        },
        {
         "module": "qutip",
         "version": "4.3.1"
        },
        {
         "module": "strawberryfields",
         "version": "0.12.0-dev"
        },
        {
         "module": "thewalrus",
         "version": "0.9.0-dev"
        }
       ]
      },
      "text/html": [
       "<table><tr><th>Software</th><th>Version</th></tr><tr><td>Python</td><td>3.6.8 64bit [GCC 7.3.0]</td></tr><tr><td>IPython</td><td>7.2.0</td></tr><tr><td>OS</td><td>Linux 4.15.0 65 generic x86_64 with debian stretch sid</td></tr><tr><td>qutip</td><td>4.3.1</td></tr><tr><td>strawberryfields</td><td>0.12.0-dev</td></tr><tr><td>thewalrus</td><td>0.9.0-dev</td></tr><tr><td colspan='2'>Fri Oct 11 13:07:02 2019 EDT</td></tr></table>"
      ],
      "text/latex": [
       "\\begin{tabular}{|l|l|}\\hline\n",
       "{\\bf Software} & {\\bf Version} \\\\ \\hline\\hline\n",
       "Python & 3.6.8 64bit [GCC 7.3.0] \\\\ \\hline\n",
       "IPython & 7.2.0 \\\\ \\hline\n",
       "OS & Linux 4.15.0 65 generic x86\\_64 with debian stretch sid \\\\ \\hline\n",
       "qutip & 4.3.1 \\\\ \\hline\n",
       "strawberryfields & 0.12.0-dev \\\\ \\hline\n",
       "thewalrus & 0.9.0-dev \\\\ \\hline\n",
       "\\hline \\multicolumn{2}{|l|}{Fri Oct 11 13:07:02 2019 EDT} \\\\ \\hline\n",
       "\\end{tabular}\n"
      ],
      "text/plain": [
       "Software versions\n",
       "Python 3.6.8 64bit [GCC 7.3.0]\n",
       "IPython 7.2.0\n",
       "OS Linux 4.15.0 65 generic x86_64 with debian stretch sid\n",
       "qutip 4.3.1\n",
       "strawberryfields 0.12.0-dev\n",
       "thewalrus 0.9.0-dev\n",
       "Fri Oct 11 13:07:02 2019 EDT"
      ]
     },
     "execution_count": 23,
     "metadata": {},
     "output_type": "execute_result"
    }
   ],
   "source": [
    "%reload_ext version_information\n",
    "%version_information qutip, strawberryfields, thewalrus"
   ]
  },
  {
   "cell_type": "code",
   "execution_count": null,
   "metadata": {},
   "outputs": [],
   "source": []
  }
 ],
 "metadata": {
  "kernelspec": {
   "display_name": "Python 3",
   "language": "python",
   "name": "python3"
  },
  "language_info": {
   "codemirror_mode": {
    "name": "ipython",
    "version": 3
   },
   "file_extension": ".py",
   "mimetype": "text/x-python",
   "name": "python",
   "nbconvert_exporter": "python",
   "pygments_lexer": "ipython3",
   "version": "3.6.8"
  }
 },
 "nbformat": 4,
 "nbformat_minor": 2
}
