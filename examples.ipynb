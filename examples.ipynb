{
 "cells": [
  {
   "cell_type": "markdown",
   "metadata": {},
   "source": [
    "# Supplementary material for \"A faster calculation of  Franck-Condon factors and Fock matrix elements of Gaussian unitaries using loop hafnians\"\n",
    "\n",
    "## Nicolás Quesada\n",
    "### Xanadu, 372 Richmond St. Toronto, ON, M5V 1X6, Canada"
   ]
  },
  {
   "cell_type": "code",
   "execution_count": 6,
   "metadata": {},
   "outputs": [],
   "source": [
    "# Importing standard libraries\n",
    "import numpy as np\n",
    "import strawberryfields as sf \n",
    "from strawberryfields.ops import *\n",
    "import fockgaussian "
   ]
  },
  {
   "cell_type": "markdown",
   "metadata": {},
   "source": [
    "# Example 0:  $1 = \\langle n|  n \\rangle$"
   ]
  },
  {
   "cell_type": "code",
   "execution_count": 7,
   "metadata": {},
   "outputs": [
    {
     "name": "stdout",
     "output_type": "stream",
     "text": [
      "Fock backend of strawberryfields:(1+0j)\n",
      "Loop hafnian: \t \t \t (1+0j)\n"
     ]
    }
   ],
   "source": [
    "cutoff = 15\n",
    "l=1\n",
    "m=[1,]\n",
    "n=[1,]\n",
    "U = np.identity(l)\n",
    "Up = np.identity(l)\n",
    "ls = [0.0]\n",
    "alphas = 0.0*np.array([3.0+4.0j])\n",
    "ketn1 = np.zeros([cutoff], dtype=np.complex128)\n",
    "ketn1[n[0]] = 1.0\n",
    "\n",
    "in_state = ketn1\n",
    "eng, q = sf.Engine(l)\n",
    "with eng:\n",
    "    Ket(in_state) | q\n",
    "    Interferometer(np.conj(Up))|q\n",
    "    Sgate(ls[0]) | q[0]\n",
    "    Interferometer(np.conj(U))|q\n",
    "    Dgate(alphas[0])|q[0]\n",
    "state = eng.run(\"fock\", cutoff_dim = cutoff)\n",
    "ket = state.ket()\n",
    "\n",
    "r1 = fockgaussian.matelem(l,m,n,U,Up,ls,alphas)\n",
    "r2 = ket[m[0]]\n",
    "print(\"Fock backend of strawberryfields:\"+str(np.round(r1,7)))\n",
    "print(\"Loop hafnian: \\t \\t \\t \"+str(np.round(r2,7)))"
   ]
  },
  {
   "cell_type": "markdown",
   "metadata": {},
   "source": [
    "# Example 1: Single mode displaced state $\\langle m| \\hat D(\\alpha) | n \\rangle$"
   ]
  },
  {
   "cell_type": "code",
   "execution_count": 8,
   "metadata": {},
   "outputs": [
    {
     "name": "stdout",
     "output_type": "stream",
     "text": [
      "Fock backend of strawberryfields:(0.030675+0.0409j)\n",
      "Loop hafnian: \t \t \t (0.030675+0.0409j)\n"
     ]
    }
   ],
   "source": [
    "cutoff = 15 # Cutoff of the Fock basis in strawberry fields\n",
    "l=1\n",
    "m=[5,]\n",
    "n=[4,]\n",
    "U = np.identity(l)\n",
    "Up = np.identity(l)\n",
    "ls = [0.0]\n",
    "alphas = np.array([3.0+4.0j])\n",
    "ketn1 = np.zeros([cutoff], dtype=np.complex128)\n",
    "ketn1[n[0]] = 1.0\n",
    "in_state = ketn1\n",
    "eng, q = sf.Engine(l)\n",
    "with eng:\n",
    "    Ket(in_state) | q\n",
    "    Interferometer(np.conj(Up))|q\n",
    "    Sgate(ls[0]) | q[0]\n",
    "    Interferometer(np.conj(U))|q\n",
    "    Dgate(alphas[0])|q[0]\n",
    "state = eng.run(\"fock\", cutoff_dim = cutoff)\n",
    "ket = state.ket()\n",
    "\n",
    "r1 = fockgaussian.matelem(l,m,n,U,Up,ls,alphas)\n",
    "r2 = ket[m[0]]\n",
    "print(\"Fock backend of strawberryfields:\"+str(np.round(r1,7)))\n",
    "print(\"Loop hafnian: \\t \\t \\t \"+str(np.round(r2,7)))"
   ]
  },
  {
   "cell_type": "markdown",
   "metadata": {},
   "source": [
    "## Example 2: Single mode Squeezed state $\\langle m| \\hat S(r) | n \\rangle$"
   ]
  },
  {
   "cell_type": "code",
   "execution_count": 9,
   "metadata": {},
   "outputs": [
    {
     "name": "stdout",
     "output_type": "stream",
     "text": [
      "Fock backend of strawberryfields:(0.2467539+0j)\n",
      "Loop hafnian: \t \t \t (0.2467539+0j)\n"
     ]
    }
   ],
   "source": [
    "cutoff = 15\n",
    "l=1\n",
    "m=[6,]\n",
    "n=[4,]\n",
    "U = np.identity(l)\n",
    "Up = np.identity(l)\n",
    "ls = [1.0]\n",
    "alphas = np.array([0.0+0.0j])\n",
    "ketn1 = np.zeros([cutoff], dtype=np.complex128)\n",
    "ketn1[n[0]] = 1.0\n",
    "in_state = ketn1\n",
    "eng, q = sf.Engine(l)\n",
    "with eng:\n",
    "    Ket(in_state) | q\n",
    "    Interferometer(np.conj(Up))|q\n",
    "    Sgate(ls[0]) | q[0]\n",
    "    Interferometer(np.conj(U))|q\n",
    "    Dgate(alphas[0])|q[0]\n",
    "state = eng.run(\"fock\", cutoff_dim = cutoff)\n",
    "ket = state.ket()\n",
    "\n",
    "r1 = fockgaussian.matelem(l,m,n,U,Up,ls,alphas)\n",
    "r2 = ket[m[0]]\n",
    "print(\"Fock backend of strawberryfields:\"+str(np.round(r1,7)))\n",
    "print(\"Loop hafnian: \\t \\t \\t \"+str(np.round(r2,7)))"
   ]
  },
  {
   "cell_type": "markdown",
   "metadata": {},
   "source": [
    "# Example 3: Single mode displaced state rotated $\\langle m|  \\hat D(\\alpha) \\mathcal{\\hat U}(e^{i \\theta}) \\mathcal{\\hat U}(e^{i \\phi})| n\\rangle$"
   ]
  },
  {
   "cell_type": "code",
   "execution_count": 25,
   "metadata": {},
   "outputs": [
    {
     "name": "stdout",
     "output_type": "stream",
     "text": [
      "Fock backend of strawberryfields:(-0.4298326-0.0871314j)\n",
      "Loop hafnian: \t \t \t (-0.4298326-0.0871314j)\n"
     ]
    }
   ],
   "source": [
    "cutoff = 15\n",
    "#for initm in range(0,7):\n",
    "#    for initn in range(0,7):\n",
    "l=1\n",
    "m=[1,]\n",
    "n=[1,]\n",
    "phi =1.3\n",
    "theta = -1.5\n",
    "U = np.identity(l)*np.exp(1j*theta)\n",
    "Up = np.identity(l)*np.exp(1j*phi)\n",
    "ls = [0.0]\n",
    "alphas = np.array([1.1+1.2j])\n",
    "ketn1 = np.zeros([cutoff], dtype=np.complex128)\n",
    "ketn1[n[0]] = 1.0\n",
    "in_state = ketn1\n",
    "eng, q = sf.Engine(l)\n",
    "with eng:\n",
    "    Ket(in_state) | q\n",
    "    Interferometer(np.conj(Up))|q\n",
    "    Sgate(ls[0]) | q[0]\n",
    "    Interferometer(np.conj(U))|q\n",
    "    Dgate(alphas[0])|q[0]\n",
    "state = eng.run(\"fock\", cutoff_dim = cutoff)\n",
    "ket = state.ket()\n",
    "\n",
    "r1 = fockgaussian.matelem(l,m,n,U,Up,ls,alphas)\n",
    "r2 = ket[m[0]]\n",
    "print(\"Fock backend of strawberryfields:\"+str(np.round(r1,7)))\n",
    "print(\"Loop hafnian: \\t \\t \\t \"+str(np.round(r2,7)))"
   ]
  },
  {
   "cell_type": "markdown",
   "metadata": {},
   "source": [
    "# Example 4: Single mode Squeezed state rotated $\\langle m|   \\mathcal{\\hat U}(e^{i \\theta}) \\hat S(r) \\mathcal{\\hat U}(e^{i \\phi})| n\\rangle$"
   ]
  },
  {
   "cell_type": "code",
   "execution_count": 24,
   "metadata": {},
   "outputs": [
    {
     "name": "stdout",
     "output_type": "stream",
     "text": [
      "Fock backend of strawberryfields:(-0.2914948+0.0170448j)\n",
      "Loop hafnian: \t \t \t (-0.2914948+0.0170448j)\n"
     ]
    }
   ],
   "source": [
    "cutoff = 15\n",
    "#for initm in range(0,7):\n",
    "#    for initn in range(0,7):\n",
    "l=1\n",
    "m=[2,]\n",
    "n=[4,]\n",
    "phi =1.3\n",
    "theta = -1.0\n",
    "U = np.identity(l)*np.exp(1j*theta)\n",
    "Up = np.identity(l)*np.exp(1j*phi)\n",
    "ls = [1.0]\n",
    "alphas = 0*np.array([1.0+.5j])\n",
    "\n",
    "ketn1 = np.zeros([cutoff], dtype=np.complex128)\n",
    "ketn1[n[0]] = 1.0\n",
    "in_state = ketn1\n",
    "eng, q = sf.Engine(l)\n",
    "with eng:\n",
    "    Ket(in_state) | q\n",
    "    Interferometer(np.conj(Up))|q\n",
    "    Sgate(ls[0]) | q[0]\n",
    "    Interferometer(np.conj(U))|q\n",
    "    Dgate(alphas[0])|q[0]\n",
    "\n",
    "state = eng.run(\"fock\", cutoff_dim = cutoff)\n",
    "ket = state.ket()\n",
    "\n",
    "r1 = fockgaussian.matelem(l,m,n,U,Up,ls,alphas)\n",
    "r2 = ket[m[0]]\n",
    "print(\"Fock backend of strawberryfields:\"+str(np.round(r1,7)))\n",
    "print(\"Loop hafnian: \\t \\t \\t \"+str(np.round(r2,7)))"
   ]
  },
  {
   "cell_type": "markdown",
   "metadata": {},
   "source": [
    "# Example 5: Single mode Squeezed state rotated $\\langle m| \\hat D(\\alpha)  \\mathcal{\\hat U}(e^{i \\theta}) \\hat S(r) \\mathcal{\\hat U}(e^{i \\phi})| n\\rangle$"
   ]
  },
  {
   "cell_type": "code",
   "execution_count": 15,
   "metadata": {},
   "outputs": [
    {
     "name": "stdout",
     "output_type": "stream",
     "text": [
      "Fock backend of strawberryfields:(0.2135387-0.1053539j)\n",
      "Loop hafnian: \t \t \t (0.2135307-0.1053854j)\n"
     ]
    }
   ],
   "source": [
    "cutoff = 15\n",
    "#for initm in range(0,7):\n",
    "#    for initn in range(0,7):\n",
    "l=1\n",
    "m=[2,]\n",
    "n=[1,]\n",
    "phi =1.3\n",
    "theta = -1.0\n",
    "U = np.identity(l)*np.exp(1j*theta)\n",
    "Up = np.identity(l)*np.exp(1j*phi)\n",
    "ls = [1.0]\n",
    "alphas = np.array([1.0+.5j])\n",
    "\n",
    "ketn1 = np.zeros([cutoff], dtype=np.complex128)\n",
    "ketn1[n[0]] = 1.0\n",
    "in_state = ketn1\n",
    "eng, q = sf.Engine(l)\n",
    "with eng:\n",
    "    Ket(in_state) | q\n",
    "    Interferometer(np.conj(Up))|q\n",
    "    Sgate(ls[0]) | q[0]\n",
    "    Interferometer(np.conj(U))|q\n",
    "    Dgate(alphas[0])|q[0]\n",
    "\n",
    "state = eng.run(\"fock\", cutoff_dim = cutoff)\n",
    "ket = state.ket()\n",
    "\n",
    "r1 = fockgaussian.matelem(l,m,n,U,Up,ls,alphas)\n",
    "r2 = ket[m[0]]\n",
    "print(\"Fock backend of strawberryfields:\"+str(np.round(r1,7)))\n",
    "print(\"Loop hafnian: \\t \\t \\t \"+str(np.round(r2,7)))"
   ]
  },
  {
   "cell_type": "markdown",
   "metadata": {},
   "source": [
    "# Example 6: Two mode Squeezed, rotated and displaced $\\langle m| \\hat D(\\alpha)  \\mathcal{\\hat U}(U) \\hat S(r) \\mathcal{\\hat U}(U')| n\\rangle$"
   ]
  },
  {
   "cell_type": "code",
   "execution_count": 16,
   "metadata": {},
   "outputs": [],
   "source": [
    "from strawberryfields.utils import random_interferometer as haar_measure"
   ]
  },
  {
   "cell_type": "code",
   "execution_count": 17,
   "metadata": {},
   "outputs": [
    {
     "name": "stdout",
     "output_type": "stream",
     "text": [
      "U1= [[ 0.84734151-0.45091891j -0.03972588-0.27768031j]\n",
      " [ 0.27944344+0.02441027j -0.40368538+0.87083501j]]\n",
      "U2= [[-0.70741986-0.13755014j -0.69031545+0.0640444j ]\n",
      " [-0.5282222 +0.44901938j  0.39597678-0.60213394j]]\n"
     ]
    }
   ],
   "source": [
    "U1 = haar_measure(2)\n",
    "U2 = haar_measure(2)\n",
    "print(\"U1=\",U1)\n",
    "print(\"U2=\",U2)"
   ]
  },
  {
   "cell_type": "code",
   "execution_count": 23,
   "metadata": {},
   "outputs": [
    {
     "name": "stdout",
     "output_type": "stream",
     "text": [
      "Fock backend of strawberryfields:(0.01783-0.08914j)\n",
      "Loop hafnian: \t \t \t (0.01783-0.08914j)\n"
     ]
    }
   ],
   "source": [
    "cutoff = 15\n",
    "l=2\n",
    "m=[2,1]\n",
    "n=[1,1]\n",
    "\n",
    "U = U1\n",
    "Up = U2\n",
    "ls = [0.4,0.5]\n",
    "alphas = np.array([1.0+.5j,0.3+0.7j])\n",
    "\n",
    "ketn1 = np.zeros([cutoff], dtype=np.complex128)\n",
    "ketn1[n[0]] = 1.0\n",
    "ketn2 = np.zeros([cutoff], dtype=np.complex128)\n",
    "ketn2[n[1]] = 1.0\n",
    "ketn = np.tensordot(ketn1, ketn2, axes = 0)\n",
    "in_state = ketn\n",
    "eng, q = sf.Engine(l)\n",
    "with eng:\n",
    "    Ket(in_state) | q\n",
    "    Interferometer(np.conj(Up))|q\n",
    "    Sgate(ls[0]) | q[0]\n",
    "    Sgate(ls[1]) | q[1]\n",
    "    Interferometer(np.conj(U))|q\n",
    "    Dgate(alphas[0])|q[0]\n",
    "    Dgate(alphas[1])|q[1]\n",
    "\n",
    "state = eng.run(\"fock\", cutoff_dim = cutoff)\n",
    "ket = state.ket()\n",
    "\n",
    "r1 = fockgaussian.matelem(l,m,n,U,Up,ls,alphas)\n",
    "r2 = ket[m[0],m[1]]\n",
    "print(\"Fock backend of strawberryfields:\"+str(np.round(r1,5)))\n",
    "print(\"Loop hafnian: \\t \\t \\t \"+str(np.round(r2,5)))\n"
   ]
  },
  {
   "cell_type": "code",
   "execution_count": null,
   "metadata": {},
   "outputs": [],
   "source": []
  }
 ],
 "metadata": {
  "kernelspec": {
   "display_name": "Python (3)",
   "language": "python",
   "name": "covarianceproject"
  },
  "language_info": {
   "codemirror_mode": {
    "name": "ipython",
    "version": 3
   },
   "file_extension": ".py",
   "mimetype": "text/x-python",
   "name": "python",
   "nbconvert_exporter": "python",
   "pygments_lexer": "ipython3",
   "version": "3.5.4"
  }
 },
 "nbformat": 4,
 "nbformat_minor": 2
}
